{
 "cells": [
  {
   "cell_type": "markdown",
   "metadata": {},
   "source": [
    "# Assignment 2: Classical Control\n",
    "Name:\n",
    "\n",
    "Purdue Username:\n",
    "\n",
    "\n",
    "In this assignment, you will implement and tune a trajectory following controller for a 2-degree of freedom(DoF) robotic arm, and (optionally) a race car."
   ]
  },
  {
   "cell_type": "markdown",
   "metadata": {
    "tags": []
   },
   "source": [
    "## Getting Started\n",
    "\n",
    "We'll be using OpenAI gym, along with PyBullet, to model the robot's environment.\n",
    "- [OpenAI gym](https://gym.openai.com/) is a toolkit for developing planning and control algorithms. It provides a standard API that abstracts away the model of the robot's environment. It is primarily used for reinforcement learning agents, but can work with any controller, including the PD controllers you'll build in this assignment.\n",
    "  - If you've never used gym, be sure to read this short [tutorial](https://gym.openai.com/docs/) before getting started.\n",
    "- [PyBullet](https://pybullet.org/wordpress/) is an open-source physics engine that we'll use to model the robot.\n",
    "- [pybullet-gym](https://github.com/benelot/pybullet-gym) is an open-source library that implements a variety of gym environments using PyBullet as the backend. One of these environments is `ReacherPyBulletEnv-v0`\n",
    ", the robotic arm that you'll be working with.\n",
    "\n",
    "## Installation Instructions\n",
    "Before running this notebook, you'll need to install `gym` and `pybullet-gym`, like so:\n",
    "```bash\n",
    "~ # install gym\n",
    "~ pip install gym\n",
    "~ # install pybullet-gym\n",
    "~ git clone https://github.com/benelot/pybullet-gym.git\n",
    "~ cd pybullet-gym\n",
    "~ pip install -e .\n",
    "```"
   ]
  },
  {
   "cell_type": "markdown",
   "metadata": {},
   "source": [
    "## Overview: 2-DOF robotic arm"
   ]
  },
  {
   "cell_type": "code",
   "execution_count": 1,
   "metadata": {},
   "outputs": [
    {
     "name": "stderr",
     "output_type": "stream",
     "text": [
      "pybullet build time: Dec  1 2021 18:33:43\n"
     ]
    }
   ],
   "source": [
    "# load libraries (if this fails, see \"Installation Instructions\")\n",
    "import gym\n",
    "import numpy as np\n",
    "import pybulletgym.envs\n",
    "import matplotlib.pyplot as plt\n",
    "import pybullet\n",
    "from ipywidgets import IntProgress\n",
    "from IPython.display import display\n",
    "from IPython.display import clear_output\n",
    "import time\n",
    "import sys"
   ]
  },
  {
   "cell_type": "code",
   "execution_count": 2,
   "metadata": {},
   "outputs": [
    {
     "name": "stderr",
     "output_type": "stream",
     "text": [
      "/home/sashankmns/.local/lib/python3.8/site-packages/gym/spaces/box.py:73: UserWarning: \u001b[33mWARN: Box bound precision lowered by casting to float32\u001b[0m\n",
      "  logger.warn(\n"
     ]
    }
   ],
   "source": [
    "# initialize the environment\n",
    "\n",
    "# This try-except is to make sure there is only a single pybullet connection set-up\n",
    "try:\n",
    "    env.reset()\n",
    "except NameError:\n",
    "    env = gym.make(\"ReacherPyBulletEnv-v0\")\n",
    "\n",
    "env.render(mode=\"human\")\n",
    "obs = env.reset()"
   ]
  },
  {
   "cell_type": "markdown",
   "metadata": {},
   "source": [
    "The robot arm you will be controlling looks like this:\n",
    "\n",
    "![RobotArm](robotArm.png)\n",
    "\n",
    "The base of the robot is at the origin; the links $l_0$ and $l_1$ are 0.1 and 0.11 units long respectively.\n",
    "\n",
    "The action space of environment is [$\\tau_0$,$\\tau_1$], where $\\tau_0$ and $\\tau_1$ are the torques applied to joints $q_0$ and $q_1$ respectively."
   ]
  },
  {
   "cell_type": "markdown",
   "metadata": {},
   "source": [
    "Do _not_ use the observation space of the environment to get the robot's position. Instead, use the following class methods to obtain the joint angles:\n",
    "```python\n",
    "# To get the current position and angular velocity of q0\n",
    "q0, q0_dot = env.unwrapped.robot.central_joint.current_position()\n",
    "# To get the current position and angular velocity of q1\n",
    "q1, q1_dot = env.unwrapped.robot.elbow_joint.current_position()\n",
    "\n",
    "# To set joint q0 to a particular position. (Use only before running your controller, to initialize the start position)\n",
    "env.unwrapped.robot.central_joint.reset_position(position, 0)\n",
    "# To set joint q1 to a particular position. (Use only before running your controller, to initialize the start position)\n",
    "env.unwrapped.robot.elbow_joint.reset_position(position, 0)\n",
    "```"
   ]
  },
  {
   "cell_type": "markdown",
   "metadata": {},
   "source": [
    "Your job is to implement PD controllers that track the trajectory\n",
    "\n",
    "$$\\begin{bmatrix}x(\\theta) \\\\ y(\\theta)\\end{bmatrix}\n",
    "= \\begin{bmatrix}(0.19 + 0.02 \\cos 4\\theta)\\cos\\theta \\\\ (0.19 + 0.02 \\cos 4\\theta)\\sin\\theta\\end{bmatrix},\n",
    "\\text{ for }\\theta \\in [-\\pi, \\pi]$$\n",
    "\n",
    "This trajectory is plotted below:"
   ]
  },
  {
   "cell_type": "code",
   "execution_count": 3,
   "metadata": {},
   "outputs": [
    {
     "data": {
      "image/png": "[encoded data removed]",
      "text/plain": [
       "<Figure size 432x288 with 1 Axes>"
      ]
     },
     "metadata": {
      "needs_background": "light"
     },
     "output_type": "display_data"
    }
   ],
   "source": [
    "x = [(0.19 + 0.02 * np.cos(theta * 4)) * np.cos(theta) for theta in np.arange(-np.pi, np.pi, 0.001)]\n",
    "y = [(0.19 + 0.02 * np.cos(theta * 4)) * np.sin(theta) for theta in np.arange(-np.pi, np.pi, 0.001)]\n",
    "plt.plot(x, y)\n",
    "plt.axis('equal')\n",
    "# plt.show()\n",
    "plt.savefig('arm_traj.png')\n",
    "traj = list(zip(x,y))\n",
    "l0=0.1;\n",
    "l1=0.11;"
   ]
  },
  {
   "cell_type": "markdown",
   "metadata": {},
   "source": [
    "### 1. Forward Model "
   ]
  },
  {
   "cell_type": "markdown",
   "metadata": {},
   "source": [
    "Derive the forward model for the robot as a closed-form expression expressed in joint angles and link length:\n",
    "\n",
    "$$f\\left(\\begin{bmatrix}q_0 \\\\ q_1\\end{bmatrix}\\right) =\n",
    "\\begin{bmatrix}\n",
    "% your answer here\n",
    "\\underline{\\; l_0 \\cos(q_0) + l_1 \\cos(q_0+q_1)\\;} \\\\\n",
    "\\underline{\\; l_0 \\sin(q_0) + l_1 \\sin(q_0+q_1)\\;}\n",
    "\\end{bmatrix}\n",
    "= \\begin{bmatrix} x \\\\ y\\end{bmatrix}$$"
   ]
  },
  {
   "cell_type": "markdown",
   "metadata": {},
   "source": [
    "Using the robot model parameters, write a function `getForwardModel` that takes the joint states and returns the end-effector position."
   ]
  },
  {
   "cell_type": "code",
   "execution_count": 4,
   "metadata": {},
   "outputs": [],
   "source": [
    "def getForwardModel(q0, q1):\n",
    "    return(l0*np.cos(q0) + l1*np.cos(q0+q1),l0*np.sin(q0) + l1*np.sin(q0+q1))\n",
    "    raise NotImplementedError"
   ]
  },
  {
   "cell_type": "markdown",
   "metadata": {},
   "source": [
    "### 2. Jacobian"
   ]
  },
  {
   "cell_type": "markdown",
   "metadata": {},
   "source": [
    "Derive the expression for the Jacobian of the robot:\n",
    "\n",
    "$$J_f(q_0, q_1) = \\begin{bmatrix}\n",
    "\\underline{\\; -l_0 \\sin(q_0) -l_1 \\sin(q_0+q_1)\\;} &  \\underline{\\;-l_1\\sin(q_0+q_1)\\;}  \\\\  \\underline{\\;l_0\\cos(q_0) + l_1\\cos(q_0+q_1)\\;} & \\; \\underline{\\;l_1\\cos(q_0+q_1)\\;} % your answer here\n",
    "\\end{bmatrix}$$"
   ]
  },
  {
   "cell_type": "markdown",
   "metadata": {},
   "source": [
    "Write a function `getJacobian` that takes the joint states and returns the Jacobian."
   ]
  },
  {
   "cell_type": "code",
   "execution_count": 5,
   "metadata": {},
   "outputs": [],
   "source": [
    "def getJacobian(q0, q1):\n",
    "    return np.array([[-l0*np.sin(q0) + -l1*np.sin(q0+q1), -l1*np.sin(q0+q1)],[l0*np.cos(q0) + l1*np.cos(q0+q1),l1*np.cos(q0+q1)]])\n",
    "    raise NotImplementedError"
   ]
  },
  {
   "cell_type": "markdown",
   "metadata": {
    "tags": []
   },
   "source": [
    "### 3. X-Y controller\n",
    "\n",
    "**Background:** for reasons beyond the scope of this course, it so happens that, for any robot,\n",
    "$$\\vec \\tau = J^T \\vec F,$$\n",
    "where\n",
    "- $\\vec F = \\langle F_x, F_y \\rangle$ is the force vector exerted by the robot at the end effector\n",
    "- $\\vec \\tau = \\langle \\tau_0, \\tau_1 \\rangle$ is the vector of torques exerted by the joints\n",
    "- $J$ is the Jacobian matrix at the current position.\n",
    "\n",
    "Use this fact to implement a closed-loop PD controller that controls the robot along the trajectory `traj`, using the error in the end-effector as the input signal. Your controller should compute forces $F_x$ and $F_y$, and then use `getJacobian` along with the above equation to translate them into joint torques.\n",
    "\n",
    "Plot the trajectory of the robot juxtaposed over the desired trajectory, and calculate the mean square error between both paths. Also plot the errors with respect to time, and use those plots to tune your controller.\n",
    "\n",
    "**Note: Initialize the robot arm to $q_0=\\pi$ and $q_1=0$**"
   ]
  },
  {
   "cell_type": "code",
   "execution_count": 19,
   "metadata": {},
   "outputs": [
    {
     "name": "stdout",
     "output_type": "stream",
     "text": [
      "Iteration : 6283\n",
      "MSE is : 1.26060738376459e-05\n"
     ]
    }
   ],
   "source": [
    "# Write your script here\n",
    "# To set joint q0 to a particular position. (Use only before running your controller, to initialize the start position)\n",
    "env.unwrapped.robot.central_joint.reset_position(np.pi, 0);\n",
    "# To set joint q1 to a particular position. (Use only before running your controller, to initialize the start position)\n",
    "env.unwrapped.robot.elbow_joint.reset_position(0, 0);\n",
    "l0=0.1;\n",
    "l1=0.11;\n",
    "kp = 100;kd=30;\n",
    "i=0;\n",
    "x_des_dot = (x[i+1] - x[i]);\n",
    "Y_des_dot = (y[i+1] - y[i]);\n",
    "x_array = []\n",
    "error_array = []\n",
    "\n",
    "for i in range(len(x)):\n",
    "    # To get the current position and angular velocity of q0\n",
    "    q0, q0_dot = env.unwrapped.robot.central_joint.current_position();\n",
    "    # To get the current position and angular velocity of q1\n",
    "    q1, q1_dot = env.unwrapped.robot.elbow_joint.current_position();\n",
    "    clear_output(wait=True);\n",
    "    print(\"Iteration : \" + str(i))\n",
    "    if i<len(x)-1:\n",
    "        x_des_dot = (traj[i+1][0] - traj[i][0]);\n",
    "        y_des_dot = (traj[i+1][1] - traj[i][1]);\n",
    "    x_act,y_act = getForwardModel(q0,q1);\n",
    "    currentJacobian = getJacobian(q0,q1);\n",
    "    [[x_act_dot],[y_act_dot]] = np.matmul(currentJacobian,np.array([[q0_dot],[q1_dot]]));\n",
    "    \n",
    "    fx = kp*(traj[i][0] - x_act) + kd*(x_des_dot - x_act_dot);\n",
    "    fy = kp*(traj[i][1] - y_act) + kd*(y_des_dot - y_act_dot);\n",
    "    \n",
    "    torques = np.matmul(currentJacobian.T,np.array([[fx],[fy]])).reshape(2,);\n",
    "    env.step(torques)\n",
    "    x_array.append([x_act,y_act])\n",
    "    error_array.append([(x_act-x[i]),(y_act - y[i])])\n",
    "x_array=np.array(x_array)\n",
    "error_array = np.array(error_array)\n",
    "\n",
    "mse = np.mean(np.sum(error_array**2,axis=1))\n",
    "\n",
    "print(\"MSE is : \" + str(mse))\n",
    "\n",
    "\n",
    "plt.rcParams[\"figure.figsize\"] = (15,30)\n",
    "_, (ax1, ax2) = plt.subplots(1, 2)\n",
    "\n",
    "ax1.plot(x,y,'-r',linewidth=6,label='Reference Trajectory')\n",
    "ax1.plot(x_array[1:,0],x_array[1:,1],'--b',linewidth=6,label='Achieved Trajectory')\n",
    "ax1.set_title(\"Trajectories for X-Y controller\")\n",
    "ax1.legend()\n",
    "\n",
    "ax2.plot(np.arange(len(error_array)), error_array)\n",
    "ax2.legend([\"Error in x\", \"Error in y\"])\n",
    "ax2.set_title(\"Error accross iterations\")\n",
    "\n",
    "ax1.set_aspect(1./ax1.get_data_ratio())\n",
    "ax2.set_aspect(1./ax2.get_data_ratio())\n",
    "# plt.title(\"Plots - Sashank Modali\")\n",
    "plt.tight_layout()\n",
    "plt.show()\n",
    "\n",
    "\n",
    "\n"
   ]
  },
  {
   "cell_type": "markdown",
   "metadata": {},
   "source": [
    "### 4. Inverse Kinematics"
   ]
  },
  {
   "cell_type": "markdown",
   "metadata": {},
   "source": [
    "Using the functions `getForwardModel` and `getJacobian` from parts 1 and 2, write a function `getIK` that takes the current end-effector position, target end-effector position, and current joint states; and returns the target joint-states."
   ]
  },
  {
   "cell_type": "code",
   "execution_count": 8,
   "metadata": {},
   "outputs": [],
   "source": [
    "def getIK(current_position, target_position, current_state):\n",
    "    epsilon = 1e-3\n",
    "    alpha=1.0\n",
    "    \n",
    "    q = np.array(current_state).reshape(2,1)\n",
    "    x = np.array(current_position).reshape(2,1)\n",
    "    target = np.array(target_position).reshape(2,1)\n",
    "    counter = 0;\n",
    "    while np.linalg.norm(target-x) > epsilon:\n",
    "        counter = counter+1;\n",
    "        if counter>100:\n",
    "            clear_output(wait =True)\n",
    "            print(np.linalg.pinv(getJacobian(*q.reshape(2,))),counter)\n",
    "        cutoff_counter=0;\n",
    "        cutoff=0;\n",
    "        rand_vec = np.random.uniform(-1,1,(2,))\n",
    "        jac_cutoff = getJacobian(*(q.reshape(2,) + cutoff*rand_vec/np.linalg.norm(rand_vec)))\n",
    "        while cutoff_counter < 20 and np.linalg.cond(jac_cutoff) >= 1/sys.float_info.epsilon:\n",
    "            cutoff_counter=cutoff_counter+1;\n",
    "            cutoff=cutoff+0.005;\n",
    "            rand_vec = np.random.uniform(-1,1,(2,))\n",
    "            jac_cutoff = getJacobian(*(q.reshape(2,) + cutoff*rand_vec/np.linalg.norm(rand_vec)))\n",
    "        # print(cutoff_counter,cutoff, np.linalg.cond(jac_cutoff),1/sys.float_info.epsilon)\n",
    "        if counter%10 == 0:\n",
    "            alpha = alpha*0.93;\n",
    "        q = q + alpha*np.matmul(np.linalg.pinv(jac_cutoff),(target-x))\n",
    "        x = np.array(getForwardModel(*q.reshape(2,))).reshape(2,1)\n",
    "        if counter >1000:\n",
    "            break\n",
    "    return q\n",
    "    raise NotImplementedError"
   ]
  },
  {
   "cell_type": "markdown",
   "metadata": {},
   "source": [
    "Now derive the analytical inverse kinematic solution; i.e. solve the problem using a closed-form equation, rather than an iterative method. _Show your work_. Correct answers without derivations will not receive full credit.\n",
    "\\begin{align*}\n",
    "    % your derivations here\n",
    "    \\text{From forward kinematics, } \\\\\n",
    "    x^2 + y^2 &= l_0^2 + l_1^2 + 2 l_0 l_1 cos(q_1) \\\\\n",
    "    \\implies q_1 &= cos^{-1} \\left(\\frac{x^2 + y^2 -(l_0^2 + l_1^2)}{2 l_0 l_1}\\right) \\\\\n",
    "    \\text{Now, } \\;\\; \\tan (\\gamma) &= \\frac{l_1 \\sin(q_1)}{ l_0 + l_1 \\cos(q_1)}, \\;\\;   \\tan(\\beta) = \\frac{y}{x} , \\;\\; q_1 = \\beta - \\gamma \\\\\n",
    "    \\implies q_1 &= \\tan^{-1}\\left(\\frac{y}{x}\\right) - \\tan^{-1}\\left(\\frac{l_1 \\sin(q_1)}{ l_0 + l_1 \\cos(q_1)}\\right)\n",
    "\\end{align*}\n",
    "\n",
    "Explain what challenges there would be to use the analytical IK solution to track trajectories:\n",
    "\n",
    "_<your explanation here\\>_\n",
    "\n",
    "The following challenges could be encountered while determining analytical IK solutions : <br>\n",
    "- For systems containing a large number of states, deriving analytical IK equations would be challenging or impossible. <br/>\n",
    "- For systems with complex forward kinematics, an analytical inverse solution may not exist, in which case, numerical methods have to be used.\n",
    "- For systems where the dynamics are learnt from data, analytical IK solution methods can't be used."
   ]
  },
  {
   "cell_type": "markdown",
   "metadata": {},
   "source": [
    "### 5. IK controller"
   ]
  },
  {
   "cell_type": "markdown",
   "metadata": {},
   "source": [
    "Implement a closed-loop PD controller that controls the robot along the trajectory `traj`, using the error in the joint-angles as the input signal.\n",
    "\n",
    "Plot the trajectory of the robot juxtaposed over the actual trajectory and caluclate the mean square error between both paths. Also plot the errors with respect to time, and use those plots to tune your controller.\n",
    "\n",
    "**Note: Initialize the robot arm to $q_0=\\pi$ and $q_1=0$**"
   ]
  },
  {
   "cell_type": "code",
   "execution_count": 21,
   "metadata": {},
   "outputs": [
    {
     "name": "stdout",
     "output_type": "stream",
     "text": [
      "Iteration : 6283\n",
      "MSE is : 2.5072420313892066e-06\n"
     ]
    }
   ],
   "source": [
    "# Write your script here.\n",
    "env.unwrapped.robot.central_joint.reset_position(np.pi, 0);\n",
    "env.unwrapped.robot.elbow_joint.reset_position(0, 0);\n",
    "\n",
    "l0=0.1;\n",
    "l1=0.11;\n",
    "kp = 3.0;kd=0.02;\n",
    "i=0;\n",
    "x_des_dot = (x[i+1] - x[i]);\n",
    "Y_des_dot = (y[i+1] - y[i]);\n",
    "x_array = []\n",
    "x_target_array =[]\n",
    "error_array = []\n",
    "x_act,y_act = getForwardModel(np.pi,0);\n",
    "q0_target, q1_target = getIK((x_act,y_act),(traj[i][0],traj[i][1]),(np.pi,0));\n",
    "count = 0;\n",
    "for i in range(len(x)):\n",
    "    clear_output(wait=True)\n",
    "    print(\"Iteration : \" + str(i))\n",
    "    # To get the current position and angular velocity of q0\n",
    "    q0, q0_dot = env.unwrapped.robot.central_joint.current_position();\n",
    "    # To get the current position and angular velocity of q1\n",
    "    q1, q1_dot = env.unwrapped.robot.elbow_joint.current_position();\n",
    "    x_act,y_act = getForwardModel(q0,q1);\n",
    "    if i<len(x)-1:\n",
    "        x_des_dot = (traj[i+1][0] - traj[i][0]);\n",
    "        y_des_dot = (traj[i+1][1] - traj[i][1]);\n",
    "        (q0_target_next, q1_target_next) = getIK((x_act,y_act),(traj[i+1][0],traj[i+1][1]),(q0,q1));\n",
    "    q0_target_dot = q0_target_next - q0_target;\n",
    "    q1_target_dot = q1_target_next - q1_target;\n",
    "    if np.abs(q1-np.pi) < 0.01 or np.abs(q1) <0.01 :\n",
    "        count=count+1;\n",
    "        \n",
    "    T0 = kp*(q0_target - q0) + kd*(q0_target_dot - q0_dot);\n",
    "    T1 = kp*(q1_target - q1) + kd*(q1_target_dot - q1_dot);\n",
    "    \n",
    "    x_tar,y_tar = getForwardModel(q0_target,q1_target)\n",
    "    x_target_array.append([x_tar, y_tar])\n",
    "    torques = np.array([[T0],[T1]]);\n",
    "    env.step(torques);\n",
    "    q0_target, q1_target = q0_target_next, q1_target_next;\n",
    "    x_array.append([x_act,y_act])\n",
    "    error_array.append([(-x_act+x[i]),(-y_act + y[i])])\n",
    "    \n",
    "x_target_array=np.array(x_target_array)\n",
    "x_array=np.array(x_array)\n",
    "error_array = np.array(error_array)\n",
    "\n",
    "mse = np.mean(np.sum(error_array**2,axis=1))\n",
    "\n",
    "print(\"MSE is : \" + str(mse))\n",
    "\n",
    "plt.rcParams[\"figure.figsize\"] = (15,30)\n",
    "_, (ax1, ax2) = plt.subplots(1, 2)\n",
    "\n",
    "ax1.plot(x,y,'-r',linewidth=6,label='Reference Trajectory')\n",
    "ax1.plot(x_array[:,0],x_array[:,1],'--b',linewidth=6,label='Achieved Trajectory')\n",
    "ax1.set_title(\"Trajectories for IK controller\")\n",
    "ax1.legend()\n",
    "\n",
    "ax2.plot(np.arange(len(error_array)), error_array)\n",
    "ax2.set_title(\"Error accross iterations\")\n",
    "ax2.legend([\"Error in x\", \"Error in y\"]);\n",
    "\n",
    "ax1.set_aspect(1./ax1.get_data_ratio())\n",
    "ax2.set_aspect(1./ax2.get_data_ratio())\n",
    "# plt.title(\"Plots - Sashank Modali\")\n",
    "plt.tight_layout()\n",
    "plt.show()\n"
   ]
  },
  {
   "cell_type": "markdown",
   "metadata": {},
   "source": [
    "### 6. (Optional) Race Car"
   ]
  },
  {
   "cell_type": "markdown",
   "metadata": {},
   "source": [
    "**Note:** this exercise is optional. If you choose to participate, you will compete with other students to design the best controller for a race car environment. The winner will receive 10 bonus points.\n",
    "\n",
    "The objective of the `racecar` environment is to make the race car travel as far as possible on a track within the given time. There are 3 tracks vailable: `FigureEight`, `Linear`, and `Circle` (default).\n",
    "Each track has a different shape, time limit, and horizon length. To set up an environment with a particular track, you can pass the track name while instantiating the environment. For example, to set up the figure eight trajectory:\n",
    "\n",
    "```python\n",
    "from racecar.SDRaceCar import SDRaceCar\n",
    "env = SDRaceCar(render_env=True, track='FigureEight')\n",
    "```\n",
    "\n",
    "To install the race car environment, run the following commands:\n",
    "```bash\n",
    "~ git clone https://github.com/ucsdarclab/RaceCar.git\n",
    "~ cd RaceCar\n",
    "~ pip install -e .\n",
    "```"
   ]
  },
  {
   "cell_type": "markdown",
   "metadata": {},
   "source": [
    "The action space of the environment consists of [wheel angle, thrust]. The range of both these values are normalized to be between $\\pm 1$.The observation space consists of [$x, y, \\theta, v_x, v_y, \\dot\\theta, h$], where ($x, y, \\theta$) is the intertial frame position of the car; $v_x, v_y$ are the longitudinal and lateral velocities  respectively; and $\\dot\\theta$ is the yaw rate. $h$ is the co-ordinate on the track the car has to reach.\n",
    "\n",
    "At each time step, the race car environment gives a reward that is proportional to the speed of the car and its proximity to the track. It terminates (`done = True`) after a fixed amount of time, or if the car gets too far from the track.\n",
    "\n",
    "Using these observations implement a controller that can traverse all three tracks. You may use different gains for different tracks, but the controller itself must be the same. Record the cumulative reward for each track; these rewards will be summed together to create your controller's score. If your controller has the highest score, you win!\n",
    "\n",
    "_Tip:_ if you call `env.render()` at each step to visualize the car's path, you may find that Jupyter interprets each step as a separate image. To avoid this, try running\n",
    "```IPython\n",
    "%matplotlib tk # others include qt, wx, gtk, osx\n",
    "```\n",
    "to load results as animations in a separate window. You may have to experiment with several different backends to find the one that works best with your system."
   ]
  },
  {
   "cell_type": "code",
   "execution_count": 22,
   "metadata": {},
   "outputs": [],
   "source": [
    "from racecar.SDRaceCar import SDRaceCar\n",
    "%matplotlib tk"
   ]
  },
  {
   "cell_type": "code",
   "execution_count": 47,
   "metadata": {},
   "outputs": [],
   "source": [
    "# define your controller here\n",
    "\n",
    "def wraptoPi(angle):\n",
    "    return np.arctan(np.sin(angle)/np.cos(angle))\n",
    "def wrapto2Pi(angle):\n",
    "    while angle>2*np.pi :\n",
    "        angle = angle - 2*np.pi;\n",
    "    while angle<0 :\n",
    "        angle = angle + 2*np.pi;\n",
    "    return angle;\n",
    "\n",
    "def controller(env,done=False,factor=0):\n",
    "    cumm_reward = 0;\n",
    "    counter = 0;\n",
    "    error=0;\n",
    "    wheel_angle_arr = [0,0,0,0,0]\n",
    "    kp=2.2;#11#\n",
    "    kd=0.5;#0.1;#\n",
    "    ki = 0.001;\n",
    "    kp2=factor*kp;\n",
    "    while done==False:\n",
    "        clear_output(wait=True)\n",
    "        state = env.get_observation()\n",
    "        x = state[0]\n",
    "        y = state[1]\n",
    "        theta = state[2]\n",
    "        vx = state[3]\n",
    "        vy = state[4]\n",
    "        omega = state[5]\n",
    "        hx = state[6][0]\n",
    "        hy = state[6][1]\n",
    "        clear_output(wait=True)\n",
    "        des_head = np.arctan2((hy-y),(hx-x))\n",
    "        if counter>1:\n",
    "            des_head_dot = des_head-des_head_prev;\n",
    "            path_head = (np.arctan2((hy-hy_prev),(hx-hx_prev)));\n",
    "        else:\n",
    "            des_head_dot = 0;\n",
    "            path_head = 0;\n",
    "        wheel_angle =  kp*(wraptoPi(des_head - theta)) + kd*(-omega)#des_head_dot\n",
    "        wheel_angle_arr[-1] = wheel_angle*180/np.pi\n",
    "        if (error<-1000 or (np.sqrt((x-hx)**2+(y-hy)**2)<1.0)) and error<0:\n",
    "            error=0;\n",
    "        error = error - 50*(np.sign(wheel_angle)*np.sign(omega)<0) - 18*(np.sign(des_head_dot - omega)<0 and np.abs(des_head - theta)>0.32 and np.sqrt((x-hx)**2+(y-hy)**2)>0.5) - 100*(0.5 - np.abs(wheel_angle) <0)  +  8*(0.3 - np.abs(wheel_angle) >0) + 2*(np.abs(omega)<0.25)\n",
    "        thrust = ki*error - kp2*(np.abs(path_head - theta))#kp*(7-np.sqrt(vx**2 + vy**2))\n",
    "        (obs, reward, done,_) = env.step([wheel_angle,thrust]);\n",
    "        cumm_reward = cumm_reward + reward;\n",
    "        counter=counter+1;\n",
    "        env.render()\n",
    "        hy_prev = hy;\n",
    "        hx_prev = hx;\n",
    "        des_head_prev = des_head\n",
    "        for i in range(1,len(wheel_angle_arr)):\n",
    "            wheel_angle_arr[i-1] = wheel_angle_arr[i];\n",
    "        \n",
    "    return cumm_reward\n",
    "        "
   ]
  },
  {
   "cell_type": "code",
   "execution_count": 48,
   "metadata": {},
   "outputs": [
    {
     "name": "stdout",
     "output_type": "stream",
     "text": [
      "256.7610430647207\n",
      "Cummulative reward obatined for Circle track is given above.\n"
     ]
    }
   ],
   "source": [
    "rc_env = SDRaceCar(render_env=True,track='Circle')\n",
    "# run your controller for the 'Circle' environment\n",
    "print(controller(rc_env));\n",
    "print(\"Cummulative reward obatined for Circle track is given above.\")\n"
   ]
  },
  {
   "cell_type": "code",
   "execution_count": 40,
   "metadata": {},
   "outputs": [
    {
     "name": "stdout",
     "output_type": "stream",
     "text": [
      "42.923011981746704\n",
      "Cummulative reward obatined for Linear track is given above.\n"
     ]
    }
   ],
   "source": [
    "rc_env = SDRaceCar(render_env=True,track='Linear')\n",
    "# run your controller for the 'Linear' environment\n",
    "print(controller(rc_env));\n",
    "print(\"Cummulative reward obatined for Linear track is given above.\")"
   ]
  },
  {
   "cell_type": "code",
   "execution_count": 49,
   "metadata": {},
   "outputs": [
    {
     "name": "stdout",
     "output_type": "stream",
     "text": [
      "168.11071903576348\n",
      "Cummulative reward obatined for figure 8 track is given above.\n"
     ]
    }
   ],
   "source": [
    "rc_env = SDRaceCar(render_env=True,track='FigureEight')\n",
    "# run your controller for the 'FigureEight' environment\n",
    "print(controller(rc_env,factor=6));\n",
    "print(\"Cummulative reward obatined for figure 8 track is given above.\")"
   ]
  },
  {
   "cell_type": "code",
   "execution_count": null,
   "metadata": {},
   "outputs": [],
   "source": []
  }
 ],
 "metadata": {
  "kernelspec": {
   "display_name": "Python 3 (ipykernel)",
   "language": "python",
   "name": "python3"
  },
  "language_info": {
   "codemirror_mode": {
    "name": "ipython",
    "version": 3
   },
   "file_extension": ".py",
   "mimetype": "text/x-python",
   "name": "python",
   "nbconvert_exporter": "python",
   "pygments_lexer": "ipython3",
   "version": "3.8.10"
  }
 },
 "nbformat": 4,
 "nbformat_minor": 4
}
