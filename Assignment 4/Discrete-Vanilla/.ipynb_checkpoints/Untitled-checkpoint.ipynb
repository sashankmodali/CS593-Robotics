{
 "cells": [
  {
   "cell_type": "code",
   "execution_count": 2,
   "id": "3106b7c5-d636-4947-b685-6938d13de45f",
   "metadata": {},
   "outputs": [
    {
     "name": "stdout",
     "output_type": "stream",
     "text": [
      "torch.Size([4])\n"
     ]
    }
   ],
   "source": [
    "import torch\n",
    "\n",
    "a = torch.tensor([1,2,3,4])\n",
    "print(a.shape)"
   ]
  },
  {
   "cell_type": "code",
   "execution_count": 4,
   "id": "a989c0f4-851f-4783-bc09-e6f92e63ec47",
   "metadata": {},
   "outputs": [
    {
     "name": "stdout",
     "output_type": "stream",
     "text": [
      "torch.Size([5, 4])\n"
     ]
    }
   ],
   "source": [
    "b = []\n",
    "\n",
    "b.append(a)\n",
    "b.append(a)\n",
    "b.append(a)\n",
    "b.append(a)\n",
    "b.append(a)\n",
    "\n",
    "b = torch.stack(b)\n",
    "\n",
    "print(b.shape)\n",
    "\n",
    "print(b[2])"
   ]
  },
  {
   "cell_type": "code",
   "execution_count": null,
   "id": "d87caa62-f973-4a98-9362-292a67e469fe",
   "metadata": {},
   "outputs": [],
   "source": []
  }
 ],
 "metadata": {
  "kernelspec": {
   "display_name": "Python 3 (ipykernel)",
   "language": "python",
   "name": "python3"
  },
  "language_info": {
   "codemirror_mode": {
    "name": "ipython",
    "version": 3
   },
   "file_extension": ".py",
   "mimetype": "text/x-python",
   "name": "python",
   "nbconvert_exporter": "python",
   "pygments_lexer": "ipython3",
   "version": "3.8.10"
  }
 },
 "nbformat": 4,
 "nbformat_minor": 5
}
